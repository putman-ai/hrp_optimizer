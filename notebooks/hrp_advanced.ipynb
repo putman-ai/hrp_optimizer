{
 "cells": [
  {
   "cell_type": "code",
   "execution_count": 1,
   "metadata": {},
   "outputs": [],
   "source": [
    "#!/usr/bin/env python3\n",
    "\"\"\"\n",
    "HRP Portfolio Optimizer\n",
    "Author: John E. Putman II\n",
    "Date: 12/13/2024\n",
    "\"\"\"\n",
    "\n",
    "# Standard library imports\n",
    "import sys\n",
    "import warnings\n",
    "from pathlib import Path\n",
    "\n",
    "# Configure path\n",
    "notebook_dir = Path.cwd()\n",
    "project_root = notebook_dir.parent\n",
    "sys.path.append(str(project_root))\n",
    "\n",
    "# Third-party imports\n",
    "import matplotlib.pyplot as plt\n",
    "import pandas as pd\n",
    "import pandas as pd\n",
    "from typing import Optional\n",
    "\n",
    "# Suppress warnings\n",
    "warnings.filterwarnings('ignore')\n",
    "\n",
    "# Local application imports\n",
    "from src.proc.data_handler import DataHandler\n",
    "from src.hrp.advanced import HRPPortfolio\n",
    "from src.viz.plots import plot_portfolio_analysis\n"
   ]
  },
  {
   "cell_type": "code",
   "execution_count": 2,
   "metadata": {},
   "outputs": [
    {
     "name": "stdout",
     "output_type": "stream",
     "text": [
      "Python version: 3.11.2 (tags/v3.11.2:878ead1, Feb  7 2023, 16:38:35) [MSC v.1934 64 bit (AMD64)]\n",
      "\n",
      "Key package versions:\n",
      "numpy: 1.23.5\n",
      "pandas: 1.5.3\n",
      "matplotlib: 3.7.1\n",
      "yfinance: 0.2.36\n"
     ]
    }
   ],
   "source": [
    "# Environment Information\n",
    "print(f\"Python version: {sys.version}\")\n",
    "print(\"\\nKey package versions:\")\n",
    "for package in ['numpy', 'pandas', 'matplotlib', 'yfinance']:\n",
    "    print(f\"{package}: {__import__(package).__version__}\")"
   ]
  },
  {
   "cell_type": "code",
   "execution_count": 3,
   "metadata": {},
   "outputs": [],
   "source": [
    "class PortfolioManager:\n",
    "    def __init__(self, risk_free_rate: float = 0.02):\n",
    "        self.data_handler = DataHandler()\n",
    "        self.portfolio = HRPPortfolio(risk_free_rate=risk_free_rate)\n",
    "        \n",
    "    def run_portfolio_optimization(\n",
    "        self,\n",
    "        data_path: str,\n",
    "        min_market_cap: int,\n",
    "        start_date: str,\n",
    "        end_date: str,\n",
    "        num_clusters: int = 3,\n",
    "        risk_measure: str = \"variance\"\n",
    "    ):\n",
    "        # Load and prepare data\n",
    "        df = self.data_handler.load_market_data(data_path, min_market_cap)\n",
    "        df = self.data_handler.calculate_quality_metrics(df)\n",
    "        hrp_df = self.data_handler.prepare_hrp_data(df)\n",
    "        \n",
    "        # Download data using yfinance directly instead of async\n",
    "        data = yf.download(\n",
    "            hrp_df['ticker'].tolist(),\n",
    "            start=start_date,\n",
    "            end=end_date\n",
    "        )['Adj Close']\n",
    "        \n",
    "        # Optimize portfolio\n",
    "        portfolio_metrics = self.portfolio.optimize_portfolio(\n",
    "            data=data,\n",
    "            market_caps=hrp_df['market_cap'].values,\n",
    "            num_clusters=num_clusters,\n",
    "            risk_measure=risk_measure\n",
    "        )\n",
    "        \n",
    "        results = pd.DataFrame({\n",
    "            'Weight': portfolio_metrics.weights,\n",
    "            'Cluster': portfolio_metrics.clusters\n",
    "        })\n",
    "        results['Market_Cap'] = hrp_df.set_index('ticker')['market_cap']\n",
    "        \n",
    "        fig = plot_portfolio_analysis(\n",
    "            portfolio_metrics.returns,\n",
    "            portfolio_metrics.weights,\n",
    "            portfolio_metrics.linkage_matrix,\n",
    "            portfolio_metrics.sharpe_ratio,\n",
    "            portfolio_metrics.volatility\n",
    "        )\n",
    "        plt.show()\n",
    "        \n",
    "        return results"
   ]
  },
  {
   "cell_type": "code",
   "execution_count": 4,
   "metadata": {},
   "outputs": [
    {
     "ename": "NameError",
     "evalue": "name 'yf' is not defined",
     "output_type": "error",
     "traceback": [
      "\u001b[1;31m---------------------------------------------------------------------------\u001b[0m",
      "\u001b[1;31mNameError\u001b[0m                                 Traceback (most recent call last)",
      "Cell \u001b[1;32mIn[4], line 3\u001b[0m\n\u001b[0;32m      1\u001b[0m \u001b[38;5;28;01mif\u001b[39;00m \u001b[38;5;18m__name__\u001b[39m \u001b[38;5;241m==\u001b[39m \u001b[38;5;124m\"\u001b[39m\u001b[38;5;124m__main__\u001b[39m\u001b[38;5;124m\"\u001b[39m:\n\u001b[0;32m      2\u001b[0m     manager \u001b[38;5;241m=\u001b[39m PortfolioManager(risk_free_rate\u001b[38;5;241m=\u001b[39m\u001b[38;5;241m0.02\u001b[39m)\n\u001b[1;32m----> 3\u001b[0m     results \u001b[38;5;241m=\u001b[39m \u001b[43mmanager\u001b[49m\u001b[38;5;241;43m.\u001b[39;49m\u001b[43mrun_portfolio_optimization\u001b[49m\u001b[43m(\u001b[49m\n\u001b[0;32m      4\u001b[0m \u001b[43m        \u001b[49m\u001b[43mdata_path\u001b[49m\u001b[38;5;241;43m=\u001b[39;49m\u001b[38;5;124;43m'\u001b[39;49m\u001b[38;5;124;43m../data/sp500_data.csv\u001b[39;49m\u001b[38;5;124;43m'\u001b[39;49m\u001b[43m,\u001b[49m\n\u001b[0;32m      5\u001b[0m \u001b[43m        \u001b[49m\u001b[43mmin_market_cap\u001b[49m\u001b[38;5;241;43m=\u001b[39;49m\u001b[38;5;241;43m2000\u001b[39;49m\u001b[43m,\u001b[49m\n\u001b[0;32m      6\u001b[0m \u001b[43m        \u001b[49m\u001b[43mstart_date\u001b[49m\u001b[38;5;241;43m=\u001b[39;49m\u001b[38;5;124;43m\"\u001b[39;49m\u001b[38;5;124;43m2019-05-01\u001b[39;49m\u001b[38;5;124;43m\"\u001b[39;49m\u001b[43m,\u001b[49m\n\u001b[0;32m      7\u001b[0m \u001b[43m        \u001b[49m\u001b[43mend_date\u001b[49m\u001b[38;5;241;43m=\u001b[39;49m\u001b[38;5;124;43m\"\u001b[39;49m\u001b[38;5;124;43m2024-12-10\u001b[39;49m\u001b[38;5;124;43m\"\u001b[39;49m\n\u001b[0;32m      8\u001b[0m \u001b[43m    \u001b[49m\u001b[43m)\u001b[49m\n\u001b[0;32m     10\u001b[0m     \u001b[38;5;28;01mif\u001b[39;00m results \u001b[38;5;129;01mis\u001b[39;00m \u001b[38;5;129;01mnot\u001b[39;00m \u001b[38;5;28;01mNone\u001b[39;00m:\n\u001b[0;32m     11\u001b[0m         \u001b[38;5;28mprint\u001b[39m(\u001b[38;5;124m\"\u001b[39m\u001b[38;5;130;01m\\n\u001b[39;00m\u001b[38;5;124mPortfolio Summary:\u001b[39m\u001b[38;5;124m\"\u001b[39m)\n",
      "Cell \u001b[1;32mIn[3], line 21\u001b[0m, in \u001b[0;36mPortfolioManager.run_portfolio_optimization\u001b[1;34m(self, data_path, min_market_cap, start_date, end_date, num_clusters, risk_measure)\u001b[0m\n\u001b[0;32m     18\u001b[0m hrp_df \u001b[38;5;241m=\u001b[39m \u001b[38;5;28mself\u001b[39m\u001b[38;5;241m.\u001b[39mdata_handler\u001b[38;5;241m.\u001b[39mprepare_hrp_data(df)\n\u001b[0;32m     20\u001b[0m \u001b[38;5;66;03m# Download data using yfinance directly instead of async\u001b[39;00m\n\u001b[1;32m---> 21\u001b[0m data \u001b[38;5;241m=\u001b[39m \u001b[43myf\u001b[49m\u001b[38;5;241m.\u001b[39mdownload(\n\u001b[0;32m     22\u001b[0m     hrp_df[\u001b[38;5;124m'\u001b[39m\u001b[38;5;124mticker\u001b[39m\u001b[38;5;124m'\u001b[39m]\u001b[38;5;241m.\u001b[39mtolist(),\n\u001b[0;32m     23\u001b[0m     start\u001b[38;5;241m=\u001b[39mstart_date,\n\u001b[0;32m     24\u001b[0m     end\u001b[38;5;241m=\u001b[39mend_date\n\u001b[0;32m     25\u001b[0m )[\u001b[38;5;124m'\u001b[39m\u001b[38;5;124mAdj Close\u001b[39m\u001b[38;5;124m'\u001b[39m]\n\u001b[0;32m     27\u001b[0m \u001b[38;5;66;03m# Optimize portfolio\u001b[39;00m\n\u001b[0;32m     28\u001b[0m portfolio_metrics \u001b[38;5;241m=\u001b[39m \u001b[38;5;28mself\u001b[39m\u001b[38;5;241m.\u001b[39mportfolio\u001b[38;5;241m.\u001b[39moptimize_portfolio(\n\u001b[0;32m     29\u001b[0m     data\u001b[38;5;241m=\u001b[39mdata,\n\u001b[0;32m     30\u001b[0m     market_caps\u001b[38;5;241m=\u001b[39mhrp_df[\u001b[38;5;124m'\u001b[39m\u001b[38;5;124mmarket_cap\u001b[39m\u001b[38;5;124m'\u001b[39m]\u001b[38;5;241m.\u001b[39mvalues,\n\u001b[0;32m     31\u001b[0m     num_clusters\u001b[38;5;241m=\u001b[39mnum_clusters,\n\u001b[0;32m     32\u001b[0m     risk_measure\u001b[38;5;241m=\u001b[39mrisk_measure\n\u001b[0;32m     33\u001b[0m )\n",
      "\u001b[1;31mNameError\u001b[0m: name 'yf' is not defined"
     ]
    }
   ],
   "source": [
    "if __name__ == \"__main__\":\n",
    "    manager = PortfolioManager(risk_free_rate=0.02)\n",
    "    results = manager.run_portfolio_optimization(\n",
    "        data_path='../data/sp500_data.csv',\n",
    "        min_market_cap=2000,\n",
    "        start_date=\"2019-05-01\",\n",
    "        end_date=\"2024-12-10\"\n",
    "    )\n",
    "    \n",
    "    if results is not None:\n",
    "        print(\"\\nPortfolio Summary:\")\n",
    "        print(results.sort_values('Weight', ascending=False).head(10))"
   ]
  }
 ],
 "metadata": {
  "kernelspec": {
   "display_name": "Python 3",
   "language": "python",
   "name": "python3"
  },
  "language_info": {
   "codemirror_mode": {
    "name": "ipython",
    "version": 3
   },
   "file_extension": ".py",
   "mimetype": "text/x-python",
   "name": "python",
   "nbconvert_exporter": "python",
   "pygments_lexer": "ipython3",
   "version": "3.11.2"
  }
 },
 "nbformat": 4,
 "nbformat_minor": 2
}
